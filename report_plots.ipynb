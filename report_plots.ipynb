{
 "cells": [
  {
   "cell_type": "code",
   "execution_count": null,
   "metadata": {},
   "outputs": [],
   "source": [
    "import altair as alt \n",
    "import pandas as pd\n",
    "import numpy as np \n",
    "import seaborn as sns\n",
    "import matplotlib.pyplot as plt"
   ]
  },
  {
   "cell_type": "code",
   "execution_count": null,
   "metadata": {},
   "outputs": [],
   "source": [
    "reports = pd.read_csv('./reports.csv', header=[0], skipinitialspace=True)\n",
    "\n",
    "reports.head()"
   ]
  },
  {
   "cell_type": "code",
   "execution_count": null,
   "metadata": {},
   "outputs": [],
   "source": [
    "list(reports)"
   ]
  },
  {
   "cell_type": "code",
   "execution_count": null,
   "metadata": {},
   "outputs": [],
   "source": [
    "reports['ReportStartDateTime'] = pd.to_datetime(reports['ReportStartDateTime'])\n",
    "reports['ReportEndDateTime'] = pd.to_datetime(reports['ReportEndDateTime'])"
   ]
  },
  {
   "cell_type": "code",
   "execution_count": null,
   "metadata": {},
   "outputs": [],
   "source": [
    "reports_normal = reports[~reports.DayOfWeek.isin(['Saturday','Sunday'])]\n",
    "reports_normal = reports_normal[reports_normal.HourOfDay.between(6,18)]"
   ]
  },
  {
   "cell_type": "code",
   "execution_count": null,
   "metadata": {},
   "outputs": [],
   "source": [
    "reports.LagTime.sort_values()"
   ]
  },
  {
   "cell_type": "markdown",
   "metadata": {},
   "source": [
    "## Goals:\n",
    "* Show distribution of all reports vs runtime\n",
    "* Show average wait-time by report-run hour\n"
   ]
  },
  {
   "cell_type": "code",
   "execution_count": null,
   "metadata": {},
   "outputs": [],
   "source": [
    "sns.set_style(\"dark\")\n",
    "plt.figure(figsize=(20, 7))\n",
    "ax = sns.violinplot(x=\"DayOfWeek\", y=\"HourOfDay\", hue=\"SchedFreq\",\n",
    "               inner=\"quart\",\n",
    "               data=reports_normal, order=['Monday','Tuesday','Wednesday','Thursday','Friday'])\n",
    "sns.despine(left=True)\n",
    "\n",
    "ax.set_title('Distribution of Runtime by Schedule Frequency')"
   ]
  },
  {
   "cell_type": "code",
   "execution_count": null,
   "metadata": {},
   "outputs": [],
   "source": [
    "sns.set_style(\"dark\")\n",
    "plt.figure(figsize=(25, 10))\n",
    "ax = sns.violinplot(x=\"DayOfMonth\", y=\"HourOfDay\",# hue=\"SchedFreq\",\n",
    "               inner=\"quart\",\n",
    "               data=reports_normal)#, order=['Monday','Tuesday','Wednesday','Thursday','Friday'])\n",
    "sns.despine(left=True)\n",
    "\n",
    "ax.set_title('Distribution of Runtime by Schedule Frequency')"
   ]
  },
  {
   "cell_type": "code",
   "execution_count": null,
   "metadata": {},
   "outputs": [],
   "source": [
    "type(reports.LagTime[0])"
   ]
  },
  {
   "cell_type": "code",
   "execution_count": null,
   "metadata": {},
   "outputs": [],
   "source": [
    "sns.set_style(\"darkgrid\")\n",
    "sns.set_context(\"talk\")\n",
    "plt.figure(figsize=(25, 17))\n",
    "ax = sns.lineplot(y=\"LagTime\", x=\"DayOfMonth\", hue=\"SchedFreq\", ci = 95,\n",
    "\n",
    "               #inner=\"quart\",\n",
    "               #palette={\"Yes\": \"y\", \"No\": \"b\"},\n",
    "               data=reports_normal)#, order=['Monday','Tuesday','Wednesday','Thursday','Friday'])\n",
    "\n",
    "ax.set_title('Average Wait Time vs Day of the Month')"
   ]
  },
  {
   "cell_type": "code",
   "execution_count": null,
   "metadata": {},
   "outputs": [],
   "source": [
    "cats = ['Monday', 'Tuesday', 'Wednesday', 'Thursday', 'Friday', 'Saturday', 'Sunday']\n",
    "reports_normal['DayOfWeek'] = pd.Categorical(reports_normal['DayOfWeek'], categories=cats, ordered=True)\n",
    "reports_normal = reports_normal.sort_values('DayOfWeek')\n",
    "\n",
    "\n",
    "sns.set_style(\"darkgrid\")\n",
    "plt.figure(figsize=(25, 17))\n",
    "ax = sns.lineplot(y=\"LagTime\", x=\"DayOfWeek\", hue=\"SchedFreq\",\n",
    "               #inner=\"quart\",\n",
    "               #palette={\"Yes\": \"y\", \"No\": \"b\"},\n",
    "               data=reports_normal)\n",
    "ax.set_title('Average Wait Time vs Day of the Week')"
   ]
  },
  {
   "cell_type": "markdown",
   "metadata": {},
   "source": [
    "# Altair Examples"
   ]
  },
  {
   "cell_type": "code",
   "execution_count": null,
   "metadata": {},
   "outputs": [],
   "source": [
    "alt.Chart(margin).mark_bar().encode(\n",
    "    x = 'Gross Margin',\n",
    "    y = 'Industry Name'\n",
    ")"
   ]
  },
  {
   "cell_type": "code",
   "execution_count": null,
   "metadata": {},
   "outputs": [],
   "source": [
    "alt.Chart(margin).mark_circle().encode(\n",
    "    x = 'EBITDA/Sales',\n",
    "    y = 'Gross Margin',\n",
    "    size = 'Number of firms:Q'\n",
    ")"
   ]
  },
  {
   "cell_type": "code",
   "execution_count": null,
   "metadata": {},
   "outputs": [],
   "source": [
    "alt.Chart(margin).mark_circle().encode(\n",
    "    x = 'Gross Margin',\n",
    "    y = 'EBITDA/Sales',\n",
    "    size = 'Net Margin:Q',\n",
    "    color = 'Industry Name:N'\n",
    ").interactive()"
   ]
  },
  {
   "cell_type": "code",
   "execution_count": null,
   "metadata": {},
   "outputs": [],
   "source": [
    "alt.Chart(margin).mark_circle().encode(\n",
    "    x = 'Gross Margin',\n",
    "    y = 'EBITDA/Sales',\n",
    "    size = 'Net Margin:Q',\n",
    "    color = 'Industry Name:N'\n",
    ").interactive()"
   ]
  },
  {
   "cell_type": "code",
   "execution_count": null,
   "metadata": {},
   "outputs": [],
   "source": [
    "margin_high = margin[(margin['Net Margin'] > np.mean(margin['Net Margin']))]\n",
    "\n",
    "margin_high['Net Margin'].count(), margin['Net Margin'].count()"
   ]
  },
  {
   "cell_type": "code",
   "execution_count": null,
   "metadata": {},
   "outputs": [],
   "source": [
    "alt.Chart(margin).mark_circle().encode(\n",
    "    x = 'Gross Margin',\n",
    "    y = 'EBITDA/Sales',\n",
    "    size = 'Net Margin:Q',\n",
    "    color = 'Industry Name:N',\n",
    "    tooltip = ['Gross Margin', 'EBITDA/Sales','Net Margin','Industry Name','COGS/Sales']\n",
    ").interactive()"
   ]
  },
  {
   "cell_type": "code",
   "execution_count": null,
   "metadata": {},
   "outputs": [],
   "source": [
    "capex = pd.read_csv('./industry_data/capex_data.csv')\n",
    "capex.head()"
   ]
  },
  {
   "cell_type": "code",
   "execution_count": null,
   "metadata": {},
   "outputs": [],
   "source": [
    "industry = pd.merge(left = margin, right = capex, on = 'Industry Name')\n",
    "industry['Gross_Net Margin Spread'] = industry['Gross Margin'] - industry['Net Margin']\n",
    "industry.head()"
   ]
  },
  {
   "cell_type": "code",
   "execution_count": null,
   "metadata": {},
   "outputs": [],
   "source": [
    "alt.Chart(industry).mark_circle().encode(\n",
    "    x = 'EBITDA/Sales',\n",
    "    y = 'Gross_Net Margin Spread',\n",
    "    tooltip = ['Industry Name','EBITDA/Sales','Gross Margin','Net Margin']\n",
    ").interactive()"
   ]
  },
  {
   "cell_type": "code",
   "execution_count": null,
   "metadata": {},
   "outputs": [],
   "source": [
    "ebitda_high = industry[(industry['EBITDA/Sales'] >= np.percentile(industry['EBITDA/Sales'],90))]\n",
    "ebitda_high['EBITDA/Sales'].describe()"
   ]
  },
  {
   "cell_type": "code",
   "execution_count": null,
   "metadata": {},
   "outputs": [],
   "source": [
    "margin_transform = ebitda_high[['Gross Margin','Net Margin','Industry Name']].melt(id_vars=['Industry Name'], value_vars = ['Gross Margin', 'Net Margin'], var_name = 'margin')\n",
    "margin_transform.head()"
   ]
  },
  {
   "cell_type": "code",
   "execution_count": null,
   "metadata": {},
   "outputs": [],
   "source": []
  },
  {
   "cell_type": "code",
   "execution_count": null,
   "metadata": {},
   "outputs": [],
   "source": []
  }
 ],
 "metadata": {
  "language_info": {
   "codemirror_mode": {
    "name": "ipython",
    "version": 3
   },
   "file_extension": ".py",
   "mimetype": "text/x-python",
   "name": "python",
   "nbconvert_exporter": "python",
   "pygments_lexer": "ipython3",
   "version": "3.7.7-final"
  },
  "orig_nbformat": 2,
  "kernelspec": {
   "name": "python3",
   "display_name": "Python 3"
  }
 },
 "nbformat": 4,
 "nbformat_minor": 2
}