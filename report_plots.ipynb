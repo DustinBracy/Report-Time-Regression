{
 "cells": [
  {
   "cell_type": "code",
   "execution_count": null,
   "metadata": {},
   "outputs": [],
   "source": [
    "import altair as alt \n",
    "import pandas as pd\n",
    "import numpy as np \n",
    "import seaborn as sns\n",
    "import matplotlib.pyplot as plt"
   ]
  },
  {
   "cell_type": "code",
   "execution_count": null,
   "metadata": {},
   "outputs": [],
   "source": [
    "reports = pd.read_csv('./reports.csv', header=[0], skipinitialspace=True)\n",
    "\n",
    "reports.head()"
   ]
  },
  {
   "cell_type": "code",
   "execution_count": null,
   "metadata": {},
   "outputs": [],
   "source": [
    "list(reports)"
   ]
  },
  {
   "cell_type": "code",
   "execution_count": null,
   "metadata": {},
   "outputs": [],
   "source": [
    "reports['ReportStartDateTime'] = pd.to_datetime(reports['ReportStartDateTime'])\n",
    "reports['ReportEndDateTime'] = pd.to_datetime(reports['ReportEndDateTime'])"
   ]
  },
  {
   "cell_type": "code",
   "execution_count": null,
   "metadata": {},
   "outputs": [],
   "source": [
    "reports_normal = reports[~reports.DayOfWeek.isin(['Saturday','Sunday'])]\n",
    "reports_normal = reports_normal[reports_normal.HourOfDay.between(6,18)]"
   ]
  },
  {
   "cell_type": "code",
   "execution_count": null,
   "metadata": {},
   "outputs": [],
   "source": [
    "reports.LagTime.sort_values()"
   ]
  },
  {
   "cell_type": "markdown",
   "metadata": {},
   "source": [
    "## Goals:\n",
    "* Show distribution of all reports vs runtime\n",
    "* Show average wait-time by report-run hour\n"
   ]
  },
  {
   "cell_type": "code",
   "execution_count": null,
   "metadata": {},
   "outputs": [],
   "source": [
    "sns.set_style(\"dark\")\n",
    "plt.figure(figsize=(20, 7))\n",
    "ax = sns.violinplot(x=\"DayOfWeek\", y=\"HourOfDay\", hue=\"SchedFreq\",\n",
    "               inner=\"quart\",\n",
    "               data=reports_normal, order=['Monday','Tuesday','Wednesday','Thursday','Friday'])\n",
    "sns.despine(left=True)\n",
    "\n",
    "ax.set_title('Distribution of Runtime by Schedule Frequency')"
   ]
  },
  {
   "cell_type": "code",
   "execution_count": null,
   "metadata": {},
   "outputs": [],
   "source": [
    "sns.set_style(\"dark\")\n",
    "plt.figure(figsize=(25, 10))\n",
    "ax = sns.violinplot(x=\"DayOfMonth\", y=\"HourOfDay\",# hue=\"SchedFreq\",\n",
    "               inner=\"quart\",\n",
    "               data=reports_normal)#, order=['Monday','Tuesday','Wednesday','Thursday','Friday'])\n",
    "sns.despine(left=True)\n",
    "\n",
    "ax.set_title('Distribution of Runtime by Schedule Frequency')"
   ]
  },
  {
   "cell_type": "code",
   "execution_count": null,
   "metadata": {},
   "outputs": [],
   "source": [
    "type(reports.LagTime[0])"
   ]
  },
  {
   "cell_type": "code",
   "execution_count": null,
   "metadata": {},
   "outputs": [],
   "source": [
    "sns.set_style(\"darkgrid\")\n",
    "sns.set_context(\"talk\")\n",
    "plt.figure(figsize=(25, 17))\n",
    "ax = sns.lineplot(y=\"LagTime\", x=\"DayOfMonth\", hue=\"SchedFreq\", ci = 95,\n",
    "\n",
    "               #inner=\"quart\",\n",
    "               #palette={\"Yes\": \"y\", \"No\": \"b\"},\n",
    "               data=reports_normal)#, order=['Monday','Tuesday','Wednesday','Thursday','Friday'])\n",
    "\n",
    "ax.set_title('Average Wait Time vs Day of the Month')"
   ]
  },
  {
   "cell_type": "code",
   "execution_count": null,
   "metadata": {},
   "outputs": [],
   "source": [
    "\n",
    "sns.set_style(\"darkgrid\")\n",
    "plt.figure(figsize=(25, 17))\n",
    "ax = sns.barplot(y=\"ReportDeliveryTime\", x=\"ReportCategory\", hue=\"SchedFreq\",\n",
    "               data=reports_normal)\n",
    "ax.set_title('Average Delivery Time by Report Type')\n",
    "ax.set_xticklabels(ax.get_xticklabels(), rotation=45)\n",
    "plt.show()"
   ]
  },
  {
   "cell_type": "code",
   "execution_count": null,
   "metadata": {},
   "outputs": [],
   "source": [
    "\n",
    "sns.set_style(\"darkgrid\")\n",
    "plt.figure(figsize=(25, 17))\n",
    "ax = sns.barplot(y=\"ReportBuildTime\", x=\"ReportCategory\", hue=\"SchedFreq\",\n",
    "               #inner=\"quart\",\n",
    "               #palette={\"Yes\": \"y\", \"No\": \"b\"},\n",
    "               data=reports_normal.sort_values('ReportCategory'))\n",
    "ax.set_title('Average Delivery Time by Report Type')\n",
    "ax.set_xticklabels(ax.get_xticklabels(), rotation=45)\n",
    "plt.show()"
   ]
  },
  {
   "cell_type": "code",
   "execution_count": null,
   "metadata": {},
   "outputs": [],
   "source": [
    "reinsurance = reports_normal[reports_normal['ReportCategory']== 'Reinsurance']\n",
    "\n",
    "sns.set_style(\"dark\")\n",
    "plt.figure(figsize=(25, 10))\n",
    "ax = sns.lineplot(x=\"DayOfMonth\", y=\"ReportDeliveryTime\", hue=\"ReportCategory\",\n",
    "             #  inner=\"quart\",\n",
    "               data=reports_normal)#, order=['Monday','Tuesday','Wednesday','Thursday','Friday'])\n",
    "sns.despine(left=True)\n",
    "\n",
    "ax.set_title('Distribution of Reinsurance Report Runtimes')"
   ]
  },
  {
   "cell_type": "code",
   "execution_count": null,
   "metadata": {},
   "outputs": [],
   "source": [
    "report_metrics = reports_normal[['ReportBuildTime','QueueTime','ReportDeliveryTime','ReportCategory','SchedFreq','DayOfWeek','DayOfMonth','HourOfDay']].melt(id_vars=['ReportCategory','SchedFreq','DayOfWeek','DayOfMonth','HourOfDay'], value_vars = ['ReportBuildTime','QueueTime','ReportDeliveryTime'], var_name = 'Type', value_name='Seconds')\n",
    "\n",
    "report_metrics"
   ]
  },
  {
   "cell_type": "code",
   "execution_count": null,
   "metadata": {},
   "outputs": [],
   "source": [
    "\n",
    "sns.set_style(\"darkgrid\")\n",
    "plt.figure(figsize=(25, 17))\n",
    "ax = sns.barplot(y=\"Seconds\", x=\"ReportCategory\", hue=\"Type\",\n",
    "               #inner=\"quart\",\n",
    "               #palette={\"Yes\": \"y\", \"No\": \"b\"},\n",
    "               data=report_metrics)\n",
    "ax.set_title('Average Delivery Time by Report Type')\n",
    "ax.set_xticklabels(ax.get_xticklabels(), rotation=45)\n",
    "plt.show()"
   ]
  },
  {
   "cell_type": "code",
   "execution_count": null,
   "metadata": {},
   "outputs": [],
   "source": [
    "#report_metrics[report_metrics['ReportCategory'] == 'Reinsurance']\n",
    "sns.set_style(\"dark\")\n",
    "plt.figure(figsize=(25, 10))\n",
    "ax = sns.lineplot(x=\"DayOfMonth\", y=\"Seconds\", hue=\"Type\", ci=None,# style='Type',\n",
    "             #  inner=\"quart\",\n",
    "               data=report_metrics)#, order=['Monday','Tuesday','Wednesday','Thursday','Friday'])\n",
    "sns.despine(left=True)\n",
    "\n",
    "ax.set_title('Distribution of Reinsurance Report Runtimes')"
   ]
  },
  {
   "cell_type": "code",
   "execution_count": null,
   "metadata": {},
   "outputs": [],
   "source": [
    "#report_metrics[report_metrics['ReportCategory'] == 'Reinsurance']\n",
    "sns.set_style(\"dark\")\n",
    "plt.figure(figsize=(25, 10))\n",
    "ax = sns.lineplot(x=\"DayOfMonth\", y=\"Seconds\", hue=\"ReportCategory\", ci=None,# style='Type',\n",
    "             #  inner=\"quart\",\n",
    "               data=report_metrics)#[report_metrics['ReportCategory'] == 'Reinsurance'])#, order=['Monday','Tuesday','Wednesday','Thursday','Friday'])\n",
    "sns.despine(left=True)\n",
    "\n",
    "ax.set_title('Distribution of Reinsurance Report Runtimes')"
   ]
  },
  {
   "cell_type": "code",
   "execution_count": null,
   "metadata": {},
   "outputs": [],
   "source": [
    "#report_metrics[report_metrics['ReportCategory'] == 'Reinsurance']\n",
    "sns.set_style(\"dark\")\n",
    "plt.figure(figsize=(25, 10))\n",
    "ax = sns.lineplot(x=\"DayOfMonth\", y=\"Seconds\", hue=\"ReportCategory\", ci=None,\n",
    "             #  inner=\"quart\",\n",
    "               data=report_metrics[report_metrics['ReportCategory'] != 'Reinsurance'])#, order=['Monday','Tuesday','Wednesday','Thursday','Friday'])\n",
    "sns.despine(left=True)\n",
    "\n",
    "ax.set_title('Distribution of Non-Reinsurance Report Runtimes')"
   ]
  },
  {
   "cell_type": "code",
   "execution_count": null,
   "metadata": {},
   "outputs": [],
   "source": [
    "#report_metrics[report_metrics['ReportCategory'] == 'Reinsurance']\n",
    "sns.set_style(\"dark\")\n",
    "plt.figure(figsize=(25, 10))\n",
    "ax = sns.lineplot(x=\"HourOfDay\", y=\"Seconds\", hue=\"ReportCategory\", ci=None,\n",
    "               data=report_metrics)#, order=['Monday','Tuesday','Wednesday','Thursday','Friday'])\n",
    "sns.despine(left=True)\n",
    "\n",
    "ax.set_title('Distribution of Non-Reinsurance Report Runtimes')"
   ]
  },
  {
   "cell_type": "code",
   "execution_count": null,
   "metadata": {},
   "outputs": [],
   "source": [
    "#report_metrics[report_metrics['ReportCategory'] == 'Reinsurance']\n",
    "sns.set_style(\"dark\")\n",
    "plt.figure(figsize=(25, 10))\n",
    "ax = sns.lineplot(x=\"HourOfDay\", y=\"Seconds\", hue=\"ReportCategory\", ci=None,\n",
    "               data=report_metrics[report_metrics['ReportCategory'] != 'Reinsurance'])#, order=['Monday','Tuesday','Wednesday','Thursday','Friday'])\n",
    "sns.despine(left=True)\n",
    "\n",
    "ax.set_title('Distribution of Non-Reinsurance Report Runtimes')"
   ]
  },
  {
   "cell_type": "code",
   "execution_count": null,
   "metadata": {},
   "outputs": [],
   "source": [
    "reinsurance = reports_normal[reports_normal['ReportCategory']== 'Reinsurance']\n",
    "\n",
    "sns.set_style(\"dark\")\n",
    "plt.figure(figsize=(25, 10))\n",
    "ax = sns.violinplot(x=\"DayOfMonth\", y=\"HourOfDay\",# hue=\"SchedFreq\",\n",
    "               inner=\"quart\",\n",
    "               data=reinsurance)#, order=['Monday','Tuesday','Wednesday','Thursday','Friday'])\n",
    "sns.despine(left=True)\n",
    "\n",
    "ax.set_title('Distribution of Reinsurance Report Runtimes')"
   ]
  }
 ],
 "metadata": {
  "language_info": {
   "codemirror_mode": {
    "name": "ipython",
    "version": 3
   },
   "file_extension": ".py",
   "mimetype": "text/x-python",
   "name": "python",
   "nbconvert_exporter": "python",
   "pygments_lexer": "ipython3",
   "version": "3.7.7-final"
  },
  "orig_nbformat": 2,
  "kernelspec": {
   "name": "python3",
   "display_name": "Python 3"
  }
 },
 "nbformat": 4,
 "nbformat_minor": 2
}